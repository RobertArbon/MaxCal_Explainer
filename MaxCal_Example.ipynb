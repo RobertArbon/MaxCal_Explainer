{
 "cells": [
  {
   "cell_type": "code",
   "execution_count": 401,
   "id": "trying-external",
   "metadata": {},
   "outputs": [],
   "source": [
    "import numpy as np\n",
    "import pyemma as pm\n",
    "import mdshare\n",
    "import matplotlib.pyplot as plt\n",
    "%matplotlib inline"
   ]
  },
  {
   "cell_type": "markdown",
   "id": "gentle-malta",
   "metadata": {},
   "source": [
    "# Information, entropy and caliber\n",
    "\n",
    "**warning inconsistent nomenclature ahead (sorry, no time to tidy up)**\n",
    "\n",
    "## Information:\n",
    "\n",
    "1 Bit = reduce uncertainty by factor of 2 (Shannon definition). \n",
    "\n",
    "$$\n",
    "h(x)=\\log_{2} \\frac{1}{P(x)}\n",
    "$$\n",
    "\n",
    "if we observe $x$ when the probability is $P(x)$ then we reduce our uncertainty by $2^{h(x)}$. e.g., if weather is 75% *rain*, 25% *sun*, and we observe *sun* our uncertainty has been reduced by a factor of $4$ or $\\log_{2}(4) = 2$ bits. If we observe *rain*, intuitively we have learned *less*, our uncertainty has been reduced by a smaller amount ($4/3$) or $\\log_{2}(4/3) = 0.42$ bits. **The less likely something is, the more suprising it is when we observe it/the more information we gained**. \n",
    "\n",
    "## Entropy\n",
    "\n",
    "Entropy is the **average information** content of a distribution: \n",
    "\n",
    "$$\n",
    "H(X) \\equiv \\sum_{x \\in \\mathcal{A}_{X}} P(x) \\log \\frac{1}{P(x)}\n",
    "$$\n",
    "\n",
    "### Joint entropy\n",
    "Many extensions, e.g., joint entropy = average information gained when observing $x, y$ from a joint distribution:  \n",
    "\n",
    "$$\n",
    "H(X, Y)=\\sum_{x y \\in \\mathcal{A}_{X} \\mathcal{A}_{Y}} P(x, y) \\log \\frac{1}{P(x, y)}\n",
    "$$\n",
    "\n",
    "### Conditional entropy\n",
    "\n",
    "Average information from $Y$ conditional on a specific value of $X$ occuring, then averaged over all possible values of $X$:  \n",
    "\n",
    "$$\n",
    "\\begin{aligned}\n",
    "\\mathrm{H}(Y \\mid X) & \\equiv \\sum_{x \\in \\mathcal{X}} p(x) \\mathrm{H}(Y \\mid X=x) \\\\\n",
    "& [\\mathrm{some\\ algebra}]\\\\\n",
    "&=\\sum_{x \\in \\mathcal{X}, y \\in \\mathcal{Y}} p(x, y) \\log \\frac{p(x)}{p(x, y)}\n",
    "\\end{aligned}\n",
    "$$\n",
    "\n",
    "Many interesting properties of conditional entropy used in derivations below (not shown, please use [Wikipedia](https://en.wikipedia.org/wiki/Conditional_entropy))\n",
    "\n",
    "\n"
   ]
  },
  {
   "cell_type": "markdown",
   "id": "unexpected-birmingham",
   "metadata": {},
   "source": [
    "## Entropy *rate*\n",
    "\n",
    "### Definition\n",
    "This is taken from [](https://homepages.cwi.nl/~schaffne/courses/infcom/2014/reports/EntropyRate_Mulder_Peters.pdf)\n",
    "\n",
    "\n",
    "We can talk about the entropy of a stochastic process, $X_{1}, X_{2}, ..., X_{n} = \\{X_{i}\\}$. \n",
    "\n",
    "If $X_{i}$ are identically and *indepedently* distributed then $H(\\{X_{i}\\}) = n \\times H(X_{1})$ (use formula for joint entropy and the fact that for i.i.d., we have $P(x, y) = P(x)P(y)$). \n",
    "\n",
    "However, in general (e.g., Markov process) $X_{i}$ are not independent so we define **entropy rate**: \n",
    "\n",
    "$$\n",
    "H\\left(\\left\\{X_{i}\\right\\}\\right) \\triangleq \\lim _{n \\rightarrow \\infty} \\frac{H\\left(X_{1}, X_{2}, \\ldots, X_{n}\\right)}{n}\n",
    "$$\n",
    "\n",
    "### Conditional entropy rate\n",
    "\n",
    "We can also define the **conditional entropy rate**: \n",
    "\n",
    "$$\n",
    "\\mathrm{H}^{\\prime}\\left(\\left\\{X_{i}\\right\\}\\right) \\triangleq \\lim _{n \\rightarrow \\infty} \\mathrm{H}\\left(X_{n} \\mid X_{n-1}, \\ldots, X_{1}\\right)\n",
    "$$\n",
    "\n",
    "\n",
    "## Entropy rate and conditional entropy rate are the same \n",
    "\n",
    "For *stationary* stochastic process we have: \n",
    "\n",
    "$$\n",
    "\\mathrm{H}\\left(\\left\\{X_{i}\\right\\}\\right)=\\lim _{n \\rightarrow \\infty} \\frac{\\mathrm{H}\\left(\\mathrm{X}_{1}, \\ldots, \\mathrm{X}_{\\mathrm{n}}\\right)}{\\mathrm{n}}=\\lim _{n \\rightarrow \\infty} \\mathrm{H}\\left(\\mathrm{X}_{\\mathrm{n}} \\mid \\mathrm{X}_{\\mathrm{n}-1}, \\ldots, \\mathrm{X}_{1}\\right)=\\mathrm{H}^{\\prime}\\left(\\left\\{\\mathrm{X}_{\\mathrm{i}}\\right\\}\\right)\n",
    "$$\n",
    "\n",
    "Proof: [see here](https://homepages.cwi.nl/~schaffne/courses/infcom/2014/reports/EntropyRate_Mulder_Peters.pdf)\n",
    "\n",
    "### Some facts: \n",
    "\n",
    "1. Both entropy rates **do not increase with $n$**. i.e., as we observe more of a stochastic process, the average information of the whole sequence **or** the information conditional on past sequence (which are the same in the limit of large $n$) decreases (or stays the same).  \n",
    "2. For a finite $n$, the conditional entropy rate is always smaller (conditioning never increases the entropy as you're restricting the outcomes). \n",
    "\n"
   ]
  },
  {
   "cell_type": "markdown",
   "id": "understood-april",
   "metadata": {},
   "source": [
    "## Entropy of Markov process\n",
    "\n",
    "For a stationary Markov process we have: \n",
    "\n",
    "$$\n",
    "\\begin{aligned}\n",
    "\\mathrm{H}\\left(\\left\\{\\mathbf{Z}_{i}\\right\\}\\right) &=\\mathrm{H}^{\\prime}\\left(\\left\\{Z_{i}\\right\\}\\right) \\\\\n",
    "&=\\lim _{n \\rightarrow \\infty} \\mathrm{H}\\left(Z_{n} \\mid Z_{n-1}, \\ldots, Z_{1}\\right) \\\\\n",
    "&=\\lim _{n \\rightarrow \\infty} \\mathrm{H}\\left(Z_{n} \\mid Z_{n-1}\\right)\\quad \\mathrm{(Markov\\ property)} \\\\\n",
    "&=\\mathrm{H}\\left(Z_{2} \\mid Z_{1}\\right)\\quad \\mathrm{(Stationary\\  process)} \\\\\n",
    "&=-\\sum_{i=1}^{|Z|} \\mu_{i}\\left(\\sum_{j=1}^{|Z|} P_{i j} \\log P_{i j}\\right)\n",
    "\\end{aligned}\n",
    "$$\n",
    "\n",
    "i.e., Entropy rate of MP: \n",
    "\n",
    "1. **First (inner) summation**: consider single state, $i$, the distribution of transitions out of that state has some entropy, $h_i$ \n",
    "2. **Second (outer) summation**: Now we want average entropy over all states, so use stationary distribution $\\sum \\mu_i h_i$"
   ]
  },
  {
   "cell_type": "markdown",
   "id": "difficult-reply",
   "metadata": {},
   "source": [
    "## Cross-entropy\n",
    "(original definition is in terms of message lengths - we'll use a different motivation)\n",
    "\n",
    "Consider estimating probability of an event/quantity etc., $q_i$.  We observe it happening $Np_i$ times (i.e., empirical probability is $p_i$).  The likelihood of the parameter $q_i$ is:\n",
    "\n",
    "$$\n",
    "\\mathcal{L} = \\prod_{i} q_{i}^{N p_{i}}\n",
    "$$\n",
    "\n",
    "now take logs and divide by $N$ (yes, notation overloaded here)\n",
    "\n",
    "$$\n",
    "\\frac{1}{N} \\log \\prod_{i} q_{i}^{N p_{i}}=\\sum_{i} p_{i} \\log q_{i}=-H(p, q)\n",
    "$$\n",
    "\n",
    "this is the cross-entropy. It measures the information content of a predicted distribution i.e., $q$ given the true distributon. If your guess about a distribution is not good, then you will have a high probability $p_i$ of of observing high information events $q_i$ which doesn't make sense - high information events have small probabilities!  \n",
    "\n",
    "It's always going to be greater than the entropy because this is actual average infomormation content.  \n",
    "\n",
    "### KL divergence\n",
    "The difference between the true average information content ($H(p)$) of the ditribution $p$, and the average information content ($H(p, q)$) from your best guess $q$ is the KL divergence: \n",
    "\n",
    "$$\n",
    "\\begin{align}\n",
    "D_{\\mathrm{KL}}(p \\| q) &= H(p) - H(p, q) \\\\\n",
    "& =\\sum_{i} p_i \\log \\frac{p_i}{q_i}\n",
    "\\end{align}\n",
    "$$\n",
    "\n"
   ]
  },
  {
   "cell_type": "markdown",
   "id": "medical-million",
   "metadata": {},
   "source": [
    "### KL divergence of MP = - Caliber\n",
    "\n",
    "Now we get to formula:\n",
    "$$\n",
    "\\mathcal{D}=\\sum_{i, j} \\pi_{i} p_{i j} \\ln \\left(\\frac{p_{i j}}{p_{i j}^{*}}\\right)\n",
    "$$\n",
    "\n",
    "This just the entropy of an MP with the cross entropy subtracted off. "
   ]
  },
  {
   "cell_type": "markdown",
   "id": "weighted-martin",
   "metadata": {},
   "source": [
    "#  Example - 2 state\n",
    "\n",
    "\n",
    "\n",
    "\n",
    "![](two_state_mp.png)\n",
    "\n",
    "\n",
    "$$\n",
    "P=\\left[\\begin{array}{cc}\n",
    "1-\\alpha & \\alpha \\\\\n",
    "\\beta & 1-\\beta\n",
    "\\end{array}\\right]\n",
    "$$\n",
    "\n",
    "For a two state process we don't really need MaxCal approach as we can always choose $\\alpha$ and $\\beta$ to match a given $\\mu$ but lets do it using the Hongbin approach. "
   ]
  },
  {
   "cell_type": "markdown",
   "id": "solid-complement",
   "metadata": {},
   "source": [
    "**Start with Markov process 1, (P1) with stationary distribution $\\pi_{1}$**"
   ]
  },
  {
   "cell_type": "code",
   "execution_count": 402,
   "id": "constant-relief",
   "metadata": {},
   "outputs": [
    {
     "name": "stdout",
     "output_type": "stream",
     "text": [
      "Transition matrix:\n",
      "[[0.9 0.1]\n",
      " [0.2 0.8]]\n",
      "\n",
      "Stationary distribution:\n",
      "[0.66666667 0.33333333]\n",
      "\n",
      "Satisfies DB?\n",
      "True\n"
     ]
    }
   ],
   "source": [
    "\n",
    "import scipy.stats as sp\n",
    "\n",
    "alpha1 = 0.1\n",
    "beta1 = 0.2\n",
    "\n",
    "P1 = np.array([[1-alpha1, alpha1], [beta1, 1-beta1]])\n",
    "evals1, evecs1 = np.linalg.eig(P1.T)\n",
    "pi1 = evecs1[:, evals1==1].flatten()\n",
    "pi1 = pi1/np.sum(pi1)\n",
    "print('Transition matrix:\\n{}\\n'.format(P1))\n",
    "print('Stationary distribution:\\n{}\\n'.format(pi1))\n",
    "print('Satisfies DB?\\n{}'.format(np.allclose(pi1[0]*P1[0, 1], pi1[1]*P1[1, 0])))"
   ]
  },
  {
   "cell_type": "markdown",
   "id": "collaborative-material",
   "metadata": {},
   "source": [
    "**Now consider another MP (P2) where we only know $\\pi_2$ (but really we know P2 as well so that we can compare exact results with MaxCal approach)**"
   ]
  },
  {
   "cell_type": "code",
   "execution_count": 403,
   "id": "excess-sociology",
   "metadata": {},
   "outputs": [
    {
     "name": "stdout",
     "output_type": "stream",
     "text": [
      "Transition matrix:\n",
      "[[0.95 0.05]\n",
      " [0.2  0.8 ]]\n",
      "\n",
      "Stationary distribution:\n",
      "[0.8 0.2]\n",
      "\n",
      "Satisfies DB?\n",
      "True\n"
     ]
    }
   ],
   "source": [
    "alpha2 = alpha1/2\n",
    "beta2 = 0.2\n",
    "\n",
    "P2 = np.array([[1-alpha2, alpha2], [beta2, 1-beta2]])\n",
    "evals2, evecs2 = np.linalg.eig(P2.T)\n",
    "pi2 = evecs2[:, evals2==1].flatten()\n",
    "pi2 = pi2/np.sum(pi2)\n",
    "print('Transition matrix:\\n{}\\n'.format(P2))\n",
    "print('Stationary distribution:\\n{}\\n'.format(pi2))\n",
    "print('Satisfies DB?\\n{}'.format(np.allclose(pi2[0]*P2[0, 1], pi2[1]*P2[1, 0])))"
   ]
  },
  {
   "cell_type": "markdown",
   "id": "exclusive-generic",
   "metadata": {},
   "source": [
    "**Question: can we calculate P2 given $\\pi_2$ and P1?**\n",
    "\n",
    "Answer: kind of -  use iterative scheme in equations 13, 14"
   ]
  },
  {
   "cell_type": "code",
   "execution_count": 404,
   "id": "actual-margin",
   "metadata": {},
   "outputs": [],
   "source": [
    "def update_pij(pi, p_star, w):\n",
    "    n = pi.shape[0]\n",
    "    p = np.empty((n, n))\n",
    "    for i in range(n):\n",
    "        for j in range(n):\n",
    "            top = pi[j]*p_star[j, i]*w[j]\n",
    "            bottom = pi[i]*p_star[i, j]*w[i]\n",
    "            p[i, j] = p_star[i, j]*np.sqrt(top/bottom)*w[i]\n",
    "    return p\n",
    "\n",
    "def update_w(w, p):\n",
    "    n = w.shape[0]\n",
    "    w_new = np.empty(n)\n",
    "    for i in range(n):\n",
    "        w_new[i] = w[i]/np.sum(p[i, :])\n",
    "    return w_new"
   ]
  },
  {
   "cell_type": "code",
   "execution_count": 405,
   "id": "celtic-cliff",
   "metadata": {},
   "outputs": [],
   "source": [
    "max_iter = 100\n",
    "\n",
    "n = P1.shape[0]\n",
    "w = np.ones(n)\n",
    "alpha_ests = []\n",
    "for i in range(max_iter):\n",
    "    P2_est = update_pij(pi2, P1, w)\n",
    "    w = update_w(w, P2_est)\n",
    "    \n",
    "evals, evecs = np.linalg.eig(P2_est.T)\n",
    "\n",
    "pi2_est = evecs[:, np.argmin(np.abs(evals-1))] \n",
    "pi2_est = pi2_est/np.sum(pi2_est)\n"
   ]
  },
  {
   "cell_type": "code",
   "execution_count": 406,
   "id": "rocky-extension",
   "metadata": {},
   "outputs": [
    {
     "data": {
      "text/plain": [
       "array([0.8, 0.2])"
      ]
     },
     "execution_count": 406,
     "metadata": {},
     "output_type": "execute_result"
    }
   ],
   "source": [
    "pi2_est"
   ]
  },
  {
   "cell_type": "code",
   "execution_count": 407,
   "id": "accredited-roommate",
   "metadata": {},
   "outputs": [
    {
     "data": {
      "text/plain": [
       "array([[0.93147581, 0.06852419],\n",
       "       [0.27409676, 0.72590324]])"
      ]
     },
     "execution_count": 407,
     "metadata": {},
     "output_type": "execute_result"
    }
   ],
   "source": [
    "P2_est"
   ]
  },
  {
   "cell_type": "markdown",
   "id": "express-shannon",
   "metadata": {},
   "source": [
    "**Why the difference?** \n",
    "\n",
    "Stationary distribution of 2 x 2 is (some algebra): \n",
    "\n",
    "$$\n",
    "\\pi = \\left[\\begin{array}{cc}\n",
    "\\frac{\\beta}{\\alpha+\\beta} & \\frac{\\alpha}{\\alpha+\\beta}\n",
    "\\end{array}\\right]\n",
    "$$"
   ]
  },
  {
   "cell_type": "markdown",
   "id": "dimensional-fishing",
   "metadata": {},
   "source": [
    "Fixing the stationary distribution at $0.8, 0.2$ to solve for $\\alpha$ and $\\beta$\n",
    "\n",
    "$$\n",
    "\\left[\\begin{array}{cc}\n",
    "4 & -1 \\\\\n",
    "4 & -1\n",
    "\\end{array}\\right]\n",
    "\\left[\\begin{array}{c}\n",
    "\\alpha \\\\\n",
    "\\beta\n",
    "\\end{array}\\right] = \n",
    "\\left[\\begin{array}{c}\n",
    "0 \\\\\n",
    "0\n",
    "\\end{array}\\right]\n",
    "$$\n",
    "\n",
    "so all solutions have $4\\alpha = \\beta$. For stochastic matrices we have $0 < \\alpha, \\beta < 1$ then: "
   ]
  },
  {
   "cell_type": "code",
   "execution_count": 408,
   "id": "mineral-trademark",
   "metadata": {},
   "outputs": [
    {
     "data": {
      "text/plain": [
       "[<matplotlib.lines.Line2D at 0x7fd03b393970>]"
      ]
     },
     "execution_count": 408,
     "metadata": {},
     "output_type": "execute_result"
    },
    {
     "data": {
      "image/png": "[encoded data removed]",
      "text/plain": [
       "<Figure size 432x288 with 1 Axes>"
      ]
     },
     "metadata": {
      "needs_background": "light"
     },
     "output_type": "display_data"
    }
   ],
   "source": [
    "alphas = np.linspace(0.01, 0.249, 100)\n",
    "betas = alphas*4\n",
    "\n",
    "plt.plot(alphas, betas)"
   ]
  },
  {
   "cell_type": "markdown",
   "id": "distinguished-crown",
   "metadata": {},
   "source": [
    "Now let's calculate the entropy of the all the potential solutions on this line. "
   ]
  },
  {
   "cell_type": "code",
   "execution_count": 409,
   "id": "corporate-norway",
   "metadata": {},
   "outputs": [],
   "source": [
    "def entropy_mp(alpha, beta):\n",
    "    P = np.array([[1-alpha, alpha], [beta, 1-beta]])\n",
    "    evals, evecs = np.linalg.eig(P.T)\n",
    "    pi = evecs[:, np.argmin(np.abs(evals-1))]\n",
    "    pi = pi/np.sum(pi)\n",
    "    ent = np.dot(sp.entropy(P.T), pi)\n",
    "    return ent\n",
    "    \n",
    "def kl_divergence(alpha, beta, alpha_star, beta_star):\n",
    "    P = np.array([[1-alpha, alpha], [beta, 1-beta]])\n",
    "    P_star = np.array([[1-alpha_star, alpha_star], [beta_star, 1-beta_star]])\n",
    "    evals, evecs = np.linalg.eig(P.T)\n",
    "    pi = evecs[:, np.argmin(np.abs(evals-1))]\n",
    "    pi = pi/np.sum(pi)\n",
    "    n = P.shape[0]\n",
    "    ent = 0\n",
    "    for i in range(n):\n",
    "        for j in range(n):\n",
    "             ent -= pi[i]*(P[i, j]*np.log2(P[i, j])-P[i, j]*np.log2(P_star[i, j]))\n",
    "\n",
    "    return ent"
   ]
  },
  {
   "cell_type": "code",
   "execution_count": 410,
   "id": "ultimate-characteristic",
   "metadata": {},
   "outputs": [],
   "source": [
    "entropies =  np.array([entropy_mp(float(x), float(y)) for x, y in zip(alphas, betas)])\n",
    "kl_divs = np.array([kl_divergence(float(x), float(y), alpha1, beta1) for x, y in zip(alphas, betas)])"
   ]
  },
  {
   "cell_type": "code",
   "execution_count": 411,
   "id": "billion-lodging",
   "metadata": {},
   "outputs": [
    {
     "data": {
      "text/plain": [
       "<matplotlib.legend.Legend at 0x7fd03af8ce20>"
      ]
     },
     "execution_count": 411,
     "metadata": {},
     "output_type": "execute_result"
    },
    {
     "data": {
      "image/png": "[encoded data removed]",
      "text/plain": [
       "<Figure size 432x288 with 1 Axes>"
      ]
     },
     "metadata": {
      "needs_background": "light"
     },
     "output_type": "display_data"
    }
   ],
   "source": [
    "plt.plot(alphas, betas, label=r'$\\beta = 4\\alpha$')\n",
    "plt.plot(alphas, entropies,  label='Entropy')\n",
    "plt.plot(alphas, kl_divs,  label='KL divergence')\n",
    "plt.scatter(P2_est[0, 1], P2_est[1, 0], marker='x', s=100, label='Estimated MaxCal', color='k')\n",
    "plt.scatter(alphas[np.argmax(entropies)], betas[np.argmax(entropies)], label='True MaxEnt')\n",
    "plt.scatter(alphas[np.argmax(kl_divs)], betas[np.argmax(kl_divs)], label='True MaxCal')\n",
    "plt.legend(bbox_to_anchor=(1, 1))"
   ]
  },
  {
   "cell_type": "code",
   "execution_count": 412,
   "id": "working-burns",
   "metadata": {},
   "outputs": [
    {
     "name": "stdout",
     "output_type": "stream",
     "text": [
      "MaxEnt alpha:  0.20071717171717174\n",
      "MaxEnt  beta:  0.802868686868687\n"
     ]
    }
   ],
   "source": [
    "print('MaxEnt alpha: ', alphas[np.argmax(entropies)])\n",
    "print('MaxEnt  beta: ', betas[np.argmax(entropies)])\n"
   ]
  },
  {
   "cell_type": "code",
   "execution_count": 413,
   "id": "coastal-weather",
   "metadata": {},
   "outputs": [
    {
     "name": "stdout",
     "output_type": "stream",
     "text": [
      "MaxCal alpha:  0.06793939393939394\n",
      "MaxCal  beta:  0.27175757575757575\n"
     ]
    }
   ],
   "source": [
    "print('MaxCal alpha: ', alphas[np.argmax(kl_divs)])\n",
    "print('MaxCal  beta: ', betas[np.argmax(kl_divs)])\n"
   ]
  },
  {
   "cell_type": "code",
   "execution_count": 414,
   "id": "durable-commission",
   "metadata": {},
   "outputs": [
    {
     "data": {
      "text/plain": [
       "array([[0.93147581, 0.06852419],\n",
       "       [0.27409676, 0.72590324]])"
      ]
     },
     "execution_count": 414,
     "metadata": {},
     "output_type": "execute_result"
    }
   ],
   "source": [
    "P2_est"
   ]
  }
 ],
 "metadata": {
  "kernelspec": {
   "display_name": "Python 3",
   "language": "python",
   "name": "python3"
  },
  "language_info": {
   "codemirror_mode": {
    "name": "ipython",
    "version": 3
   },
   "file_extension": ".py",
   "mimetype": "text/x-python",
   "name": "python",
   "nbconvert_exporter": "python",
   "pygments_lexer": "ipython3",
   "version": "3.8.0"
  }
 },
 "nbformat": 4,
 "nbformat_minor": 5
}
